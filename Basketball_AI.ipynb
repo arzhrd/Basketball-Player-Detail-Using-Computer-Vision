{
  "nbformat": 4,
  "nbformat_minor": 0,
  "metadata": {
    "colab": {
      "provenance": [],
      "authorship_tag": "ABX9TyMgIqDaoGveowYZ6aRduSSN",
      "include_colab_link": true
    },
    "kernelspec": {
      "name": "python3",
      "display_name": "Python 3"
    },
    "language_info": {
      "name": "python"
    }
  },
  "cells": [
    {
      "cell_type": "markdown",
      "metadata": {
        "id": "view-in-github",
        "colab_type": "text"
      },
      "source": [
        "<a href=\"https://colab.research.google.com/github/arzhrd/Basketball-Player-Detail-Using-Computer-Vision/blob/main/Basketball_AI.ipynb\" target=\"_parent\"><img src=\"https://colab.research.google.com/assets/colab-badge.svg\" alt=\"Open In Colab\"/></a>"
      ]
    },
    {
      "cell_type": "code",
      "source": [
        "# 1. Configure API Keys and check for GPU\n",
        "import os\n",
        "from google.colab import userdata\n",
        "from pathlib import Path\n",
        "import torch\n",
        "\n",
        "# Load API keys from Colab secrets\n",
        "try:\n",
        "    os.environ[\"HF_TOKEN\"] = userdata.get(\"HF_TOKEN\")\n",
        "    os.environ[\"ROBOFLOW_API_KEY\"] = userdata.get(\"ROBOFLOW_API_KEY\")\n",
        "    print(\"API keys loaded successfully.\")\n",
        "except Exception as e:\n",
        "    print(\"Could not load API keys. Please set them up in Colab Secrets (🔑).\")\n",
        "    print(\"Required secrets: 'HF_TOKEN' and 'ROBOFLOW_API_KEY'\")\n",
        "\n",
        "# Check for GPU\n",
        "!nvidia-smi\n",
        "\n",
        "# Set home directory\n",
        "HOME = Path.cwd()\n",
        "print(\"HOME:\", HOME)\n",
        "\n",
        "# Set ONNX provider to use GPU\n",
        "os.environ[\"ONNXRUNTIME_EXECUTION_PROVIDERS\"] = \"[CUDAExecutionProvider]\"\n",
        "\n",
        "# 2. Install SAM2 (Segment Anything Model 2) for tracking\n",
        "!git clone https://github.com/Gy920/segment-anything-2-real-time.git\n",
        "%cd {HOME}/segment-anything-2-real-time\n",
        "!pip install -e . -q\n",
        "!python setup.py build_ext --inplace\n",
        "!(cd checkpoints && bash download_ckpts.sh)\n",
        "%cd {HOME}\n",
        "\n",
        "# 3. Install all other required Python packages\n",
        "!pip install -q gdown inference-gpu supervision transformers num2words\n",
        "!pip install -q git+https://github.com/roboflow/sports.git@feat/basketball\n",
        "!pip install -q flash-attn --no-build-isolation\n",
        "\n",
        "print(\"\\n✅ All installations are complete.\")"
      ],
      "metadata": {
        "id": "T5WDXGLphaGZ"
      },
      "execution_count": null,
      "outputs": []
    },
    {
      "cell_type": "code",
      "source": [
        "# 1. Download sample videos and fonts\n",
        "SOURCE_VIDEO_DIRECTORY = HOME / \"source\"\n",
        "!gdown -q https://drive.google.com/drive/folders/1eDJYqQ77Fytz15tKGdJCMeYSgmoQ-2-H -O {SOURCE_VIDEO_DIRECTORY} --folder\n",
        "!gdown -q https://drive.google.com/drive/folders/1RBjpI5Xleb58lujeusxH0W5zYMMA4ytO -O {HOME / \"fonts\"} --folder\n",
        "print(\"Sample videos and fonts downloaded.\")\n",
        "\n",
        "# 2. Define the source video path you want to process\n",
        "# You can change the filename to process a different clip from the `source` directory\n",
        "SOURCE_VIDEO_PATH = SOURCE_VIDEO_DIRECTORY / \"boston-celtics-new-york-knicks-game-1-q1-04.28-04.20.mp4\"\n",
        "\n",
        "# 3. Define Team Rosters and Colors\n",
        "TEAM_ROSTERS = {\n",
        "  \"New York Knicks\": {\n",
        "    \"55\": \"Hukporti\", \"1\": \"Payne\", \"0\": \"Wright\", \"11\": \"Brunson\", \"3\": \"Hart\",\n",
        "    \"32\": \"Towns\", \"44\": \"Shamet\", \"25\": \"Bridges\", \"2\": \"McBride\",\n",
        "    \"23\": \"Robinson\", \"8\": \"Anunoby\", \"4\": \"Dadiet\", \"5\": \"Achiuwa\", \"13\": \"Kolek\"\n",
        "  },\n",
        "  \"Boston Celtics\": {\n",
        "    \"42\": \"Horford\", \"55\": \"Scheierman\", \"9\": \"White\", \"20\": \"Davison\",\n",
        "    \"7\": \"Brown\", \"0\": \"Tatum\", \"27\": \"Walsh\", \"4\": \"Holiday\", \"8\": \"Porzingis\",\n",
        "    \"40\": \"Kornet\", \"88\": \"Queta\", \"11\": \"Pritchard\", \"30\": \"Hauser\",\n",
        "    \"12\": \"Craig\", \"26\": \"Tillman\"\n",
        "  }\n",
        "}\n",
        "\n",
        "TEAM_COLORS = {\n",
        "    \"New York Knicks\": \"#006BB6\",\n",
        "    \"Boston Celtics\": \"#007A33\"\n",
        "}"
      ],
      "metadata": {
        "id": "0GRLc11mhaue"
      },
      "execution_count": null,
      "outputs": []
    }
  ]
}