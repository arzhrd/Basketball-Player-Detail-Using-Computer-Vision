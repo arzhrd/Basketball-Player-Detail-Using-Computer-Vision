{
  "nbformat": 4,
  "nbformat_minor": 0,
  "metadata": {
    "colab": {
      "provenance": [],
      "authorship_tag": "ABX9TyO1cNlueP/8DfEQPiT8llHP",
      "include_colab_link": true
    },
    "kernelspec": {
      "name": "python3",
      "display_name": "Python 3"
    },
    "language_info": {
      "name": "python"
    }
  },
  "cells": [
    {
      "cell_type": "markdown",
      "metadata": {
        "id": "view-in-github",
        "colab_type": "text"
      },
      "source": [
        "<a href=\"https://colab.research.google.com/github/arzhrd/Basketball-Player-Detail-Using-Computer-Vision/blob/main/Basketball_AI.ipynb\" target=\"_parent\"><img src=\"https://colab.research.google.com/assets/colab-badge.svg\" alt=\"Open In Colab\"/></a>"
      ]
    },
    {
      "cell_type": "code",
      "source": [
        "# 1. Configure API Keys and check for GPU\n",
        "import os\n",
        "from google.colab import userdata\n",
        "from pathlib import Path\n",
        "import torch\n",
        "\n",
        "# Load API keys from Colab secrets\n",
        "try:\n",
        "    os.environ[\"HF_TOKEN\"] = userdata.get(\"HF_TOKEN\")\n",
        "    os.environ[\"ROBOFLOW_API_KEY\"] = userdata.get(\"ROBOFLOW_API_KEY\")\n",
        "    print(\"API keys loaded successfully.\")\n",
        "except Exception as e:\n",
        "    print(\"Could not load API keys. Please set them up in Colab Secrets (🔑).\")\n",
        "    print(\"Required secrets: 'HF_TOKEN' and 'ROBOFLOW_API_KEY'\")\n",
        "\n",
        "# Check for GPU\n",
        "!nvidia-smi\n",
        "\n",
        "# Set home directory\n",
        "HOME = Path.cwd()\n",
        "print(\"HOME:\", HOME)\n",
        "\n",
        "# Set ONNX provider to use GPU\n",
        "os.environ[\"ONNXRUNTIME_EXECUTION_PROVIDERS\"] = \"[CUDAExecutionProvider]\"\n",
        "\n",
        "# 2. Install SAM2 (Segment Anything Model 2) for tracking\n",
        "!git clone https://github.com/Gy920/segment-anything-2-real-time.git\n",
        "%cd {HOME}/segment-anything-2-real-time\n",
        "!pip install -e . -q\n",
        "!python setup.py build_ext --inplace\n",
        "!(cd checkpoints && bash download_ckpts.sh)\n",
        "%cd {HOME}\n",
        "\n",
        "# 3. Install all other required Python packages\n",
        "!pip install -q gdown inference-gpu supervision transformers num2words\n",
        "!pip install -q git+https://github.com/roboflow/sports.git@feat/basketball\n",
        "!pip install -q flash-attn --no-build-isolation\n",
        "\n",
        "print(\"\\n✅ All installations are complete.\")"
      ],
      "metadata": {
        "id": "T5WDXGLphaGZ"
      },
      "execution_count": null,
      "outputs": []
    },
    {
      "cell_type": "code",
      "source": [
        "# 1. Download sample videos and fonts\n",
        "SOURCE_VIDEO_DIRECTORY = HOME / \"source\"\n",
        "!gdown -q https://drive.google.com/drive/folders/1eDJYqQ77Fytz15tKGdJCMeYSgmoQ-2-H -O {SOURCE_VIDEO_DIRECTORY} --folder\n",
        "!gdown -q https://drive.google.com/drive/folders/1RBjpI5Xleb58lujeusxH0W5zYMMA4ytO -O {HOME / \"fonts\"} --folder\n",
        "print(\"Sample videos and fonts downloaded.\")\n",
        "\n",
        "# 2. Define the source video path you want to process\n",
        "# You can change the filename to process a different clip from the `source` directory\n",
        "SOURCE_VIDEO_PATH = SOURCE_VIDEO_DIRECTORY / \"boston-celtics-new-york-knicks-game-1-q1-04.28-04.20.mp4\"\n",
        "\n",
        "# 3. Define Team Rosters and Colors\n",
        "TEAM_ROSTERS = {\n",
        "  \"New York Knicks\": {\n",
        "    \"55\": \"Hukporti\", \"1\": \"Payne\", \"0\": \"Wright\", \"11\": \"Brunson\", \"3\": \"Hart\",\n",
        "    \"32\": \"Towns\", \"44\": \"Shamet\", \"25\": \"Bridges\", \"2\": \"McBride\",\n",
        "    \"23\": \"Robinson\", \"8\": \"Anunoby\", \"4\": \"Dadiet\", \"5\": \"Achiuwa\", \"13\": \"Kolek\"\n",
        "  },\n",
        "  \"Boston Celtics\": {\n",
        "    \"42\": \"Horford\", \"55\": \"Scheierman\", \"9\": \"White\", \"20\": \"Davison\",\n",
        "    \"7\": \"Brown\", \"0\": \"Tatum\", \"27\": \"Walsh\", \"4\": \"Holiday\", \"8\": \"Porzingis\",\n",
        "    \"40\": \"Kornet\", \"88\": \"Queta\", \"11\": \"Pritchard\", \"30\": \"Hauser\",\n",
        "    \"12\": \"Craig\", \"26\": \"Tillman\"\n",
        "  }\n",
        "}\n",
        "\n",
        "TEAM_COLORS = {\n",
        "    \"New York Knicks\": \"#006BB6\",\n",
        "    \"Boston Celtics\": \"#007A33\"\n",
        "}"
      ],
      "metadata": {
        "id": "0GRLc11mhaue"
      },
      "execution_count": null,
      "outputs": []
    },
    {
      "cell_type": "code",
      "source": [
        "import supervision as sv\n",
        "from inference import get_model\n",
        "from sam2.build_sam import build_sam2_camera_predictor\n",
        "import torch\n",
        "\n",
        "# 1. Load Player and Number Detection Model (RF-DETR)\n",
        "PLAYER_DETECTION_MODEL_ID = \"basketball-player-detection-3-ycjdo/4\"\n",
        "PLAYER_DETECTION_MODEL = get_model(model_id=PLAYER_DETECTION_MODEL_ID)\n",
        "\n",
        "# 2. Load Player Tracking Model (SAM2.1)\n",
        "%cd {HOME}/segment-anything-2-real-time\n",
        "SAM2_CHECKPOINT = \"checkpoints/sam2.1_hiera_large.pt\"\n",
        "SAM2_CONFIG = \"configs/sam2.1/sam2.1_hiera_l.yaml\"\n",
        "sam_predictor = build_sam2_camera_predictor(SAM2_CONFIG, SAM2_CHECKPOINT)\n",
        "%cd {HOME}\n",
        "\n",
        "# 3. Load Jersey Number Recognition Model (SmolVLM2)\n",
        "NUMBER_RECOGNITION_MODEL_ID = \"basketball-jersey-numbers-ocr/3\"\n",
        "NUMBER_RECOGNITION_MODEL = get_model(model_id=NUMBER_RECOGNITION_MODEL_ID)\n",
        "NUMBER_RECOGNITION_MODEL_PROMPT = \"Read the number.\"\n",
        "\n",
        "print(\"\\n✅ All models loaded successfully.\")"
      ],
      "metadata": {
        "id": "YvQFQFVMh1fc"
      },
      "execution_count": null,
      "outputs": []
    },
    {
      "cell_type": "code",
      "source": [
        "import numpy as np\n",
        "import supervision as sv\n",
        "from tqdm import tqdm\n",
        "from sports.common.team import TeamClassifier\n",
        "\n",
        "# Class IDs for different player-related detections\n",
        "PLAYER_CLASS_IDS = [3, 4, 5, 6, 7]\n",
        "\n",
        "def shrink_boxes(xyxy: np.ndarray, scale: float) -> np.ndarray:\n",
        "    \"\"\"Shrinks bounding boxes to focus on the jersey.\"\"\"\n",
        "    x1, y1, x2, y2 = xyxy[:, 0], xyxy[:, 1], xyxy[:, 2], xyxy[:, 3]\n",
        "    cx, cy = (x1 + x2) / 2, (y1 + y2) / 2\n",
        "    w, h = (x2 - x1) * scale, (y2 - y1) * scale\n",
        "    new_x1, new_y1 = cx - w / 2, cy - h / 2\n",
        "    new_x2, new_y2 = cx + w / 2, cy + h / 2\n",
        "    return np.stack([new_x1, new_y1, new_x2, new_y2], axis=1)\n",
        "\n",
        "# 1. Collect player crops from all videos to build a training set\n",
        "crops = []\n",
        "for video_path in sv.list_files_with_extensions(SOURCE_VIDEO_DIRECTORY, extensions=[\"mp4\"]):\n",
        "    frame_generator = sv.get_video_frames_generator(source_path=str(video_path), stride=30)\n",
        "    for frame in tqdm(frame_generator, desc=f\"Processing {video_path.name}\"):\n",
        "        result = PLAYER_DETECTION_MODEL.infer(frame, confidence=0.4, iou_threshold=0.9, class_agnostic_nms=True)[0]\n",
        "        detections = sv.Detections.from_inference(result)\n",
        "        detections = detections[np.isin(detections.class_id, PLAYER_CLASS_IDS)]\n",
        "        boxes = shrink_boxes(xyxy=detections.xyxy, scale=0.4)\n",
        "        for box in boxes:\n",
        "            crops.append(sv.crop_image(frame, box))\n",
        "\n",
        "# 2. Train the team classifier and predict teams for the collected crops\n",
        "team_classifier = TeamClassifier(device=\"cuda\")\n",
        "team_classifier.fit(crops)\n",
        "teams = team_classifier.predict(crops)\n",
        "\n",
        "# 3. Display the results of clustering for manual verification\n",
        "team_0 = [crop for crop, team in zip(crops, teams) if team == 0]\n",
        "team_1 = [crop for crop, team in zip(crops, teams) if team == 1]\n",
        "\n",
        "print(\"--- CLUSTER 0 ---\")\n",
        "sv.plot_images_grid(images=team_0[:20], grid_size=(2, 10), size=(10, 2))\n",
        "print(\"\\n--- CLUSTER 1 ---\")\n",
        "sv.plot_images_grid(images=team_1[:20], grid_size=(2, 10), size=(10, 2))"
      ],
      "metadata": {
        "id": "bFqO0BPN6cw9"
      },
      "execution_count": null,
      "outputs": []
    },
    {
      "cell_type": "code",
      "source": [
        "# 4. MANUALLY ASSIGN TEAM NAMES BASED ON THE GRIDS ABOVE\n",
        "# Look at the images for Cluster 0 and Cluster 1 and assign the correct team name.\n",
        "# Uncomment the correct dictionary.\n",
        "\n",
        "TEAM_NAMES = {\n",
        "    0: \"New York Knicks\",\n",
        "    1: \"Boston Celtics\",\n",
        "}\n",
        "\n",
        "# TEAM_NAMES = {\n",
        "#     0: \"Boston Celtics\",\n",
        "#     1: \"New York Knicks\",\n",
        "# }\n",
        "\n",
        "print(\"Team names assigned:\")\n",
        "print(f\"Cluster 0 -> {TEAM_NAMES[0]}\")\n",
        "print(f\"Cluster 1 -> {TEAM_NAMES[1]}\")"
      ],
      "metadata": {
        "id": "uJUsCYT3tryl"
      },
      "execution_count": null,
      "outputs": []
    },
    {
      "cell_type": "code",
      "source": [],
      "metadata": {
        "id": "-GtaePfptr0l"
      },
      "execution_count": null,
      "outputs": []
    },
    {
      "cell_type": "code",
      "source": [],
      "metadata": {
        "id": "ZjvCuxP4tr2l"
      },
      "execution_count": null,
      "outputs": []
    },
    {
      "cell_type": "code",
      "source": [],
      "metadata": {
        "id": "oJ2HQRWStr5Z"
      },
      "execution_count": null,
      "outputs": []
    }
  ]
}