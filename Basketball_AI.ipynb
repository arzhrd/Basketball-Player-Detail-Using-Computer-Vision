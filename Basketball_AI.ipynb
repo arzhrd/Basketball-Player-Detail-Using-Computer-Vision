{
  "nbformat": 4,
  "nbformat_minor": 0,
  "metadata": {
    "colab": {
      "provenance": [],
      "authorship_tag": "ABX9TyMPaZ1PbZascoJY5/pdW6A9",
      "include_colab_link": true
    },
    "kernelspec": {
      "name": "python3",
      "display_name": "Python 3"
    },
    "language_info": {
      "name": "python"
    }
  },
  "cells": [
    {
      "cell_type": "markdown",
      "metadata": {
        "id": "view-in-github",
        "colab_type": "text"
      },
      "source": [
        "<a href=\"https://colab.research.google.com/github/arzhrd/Basketball-Player-Detail-Using-Computer-Vision/blob/main/Basketball_AI.ipynb\" target=\"_parent\"><img src=\"https://colab.research.google.com/assets/colab-badge.svg\" alt=\"Open In Colab\"/></a>"
      ]
    },
    {
      "cell_type": "code",
      "source": [
        "# 1. Configure API Keys and check for GPU\n",
        "import os\n",
        "from google.colab import userdata\n",
        "from pathlib import Path\n",
        "import torch\n",
        "\n",
        "# Load API keys from Colab secrets\n",
        "try:\n",
        "    os.environ[\"HF_TOKEN\"] = userdata.get(\"HF_TOKEN\")\n",
        "    os.environ[\"ROBOFLOW_API_KEY\"] = userdata.get(\"ROBOFLOW_API_KEY\")\n",
        "    print(\"API keys loaded successfully.\")\n",
        "except Exception as e:\n",
        "    print(\"Could not load API keys. Please set them up in Colab Secrets (🔑).\")\n",
        "    print(\"Required secrets: 'HF_TOKEN' and 'ROBOFLOW_API_KEY'\")\n",
        "\n",
        "# Check for GPU\n",
        "!nvidia-smi\n",
        "\n",
        "# Set home directory\n",
        "HOME = Path.cwd()\n",
        "print(\"HOME:\", HOME)\n",
        "\n",
        "# Set ONNX provider to use GPU\n",
        "os.environ[\"ONNXRUNTIME_EXECUTION_PROVIDERS\"] = \"[CUDAExecutionProvider]\"\n",
        "\n",
        "# 2. Install SAM2 (Segment Anything Model 2) for tracking\n",
        "!git clone https://github.com/Gy920/segment-anything-2-real-time.git\n",
        "%cd {HOME}/segment-anything-2-real-time\n",
        "!pip install -e . -q\n",
        "!python setup.py build_ext --inplace\n",
        "!(cd checkpoints && bash download_ckpts.sh)\n",
        "%cd {HOME}\n",
        "\n",
        "# 3. Install all other required Python packages\n",
        "!pip install -q gdown inference-gpu supervision transformers num2words\n",
        "!pip install -q git+https://github.com/roboflow/sports.git@feat/basketball\n",
        "!pip install -q flash-attn --no-build-isolation\n",
        "\n",
        "print(\"\\n✅ All installations are complete.\")"
      ],
      "metadata": {
        "id": "T5WDXGLphaGZ"
      },
      "execution_count": null,
      "outputs": []
    },
    {
      "cell_type": "code",
      "source": [],
      "metadata": {
        "id": "0GRLc11mhaue"
      },
      "execution_count": null,
      "outputs": []
    }
  ]
}